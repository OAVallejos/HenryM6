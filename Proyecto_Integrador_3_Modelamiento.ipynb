{
  "cells": [
    {
      "cell_type": "markdown",
      "metadata": {
        "id": "4WaoEOp0KkSp"
      },
      "source": [
        "![HenryLogo](https://d31uz8lwfmyn8g.cloudfront.net/Assets/logo-henry-white-lg.png)\n",
        "\n",
        "# **Proyecto integrador**\n",
        "\n",
        "### 3. Modelamiento\n",
        "\n",
        "Una vez preparados los datos, se procederá con el modelamiento. Recuerden que el objetivo es clasificar a un paciente como hospitalizado o no hospitalizado, teniendo en cuenta un data set que contiene información referente a antecedentes del paciente, morbilidad asociada al paciente y antecedentes relacionados con la toma de la biopsia y complicaciones infecciosas.\n",
        "\n",
        "\n"
      ]
    },
    {
      "cell_type": "markdown",
      "metadata": {
        "id": "E22GkymtLevx"
      },
      "source": [
        "Carguen la base de datos preparada desde la fase 2."
      ]
    },
    {
      "cell_type": "code",
      "execution_count": 1,
      "metadata": {},
      "outputs": [],
      "source": [
        "import pandas as pd\n"
      ]
    },
    {
      "cell_type": "code",
      "execution_count": 2,
      "metadata": {
        "id": "dlRCMYtGLqDJ"
      },
      "outputs": [
        {
          "name": "stderr",
          "output_type": "stream",
          "text": [
            "C:\\Users\\juana\\AppData\\Local\\Packages\\PythonSoftwareFoundation.Python.3.11_qbz5n2kfra8p0\\LocalCache\\local-packages\\Python311\\site-packages\\openpyxl\\worksheet\\_reader.py:329: UserWarning: Unknown extension is not supported and will be removed\n",
            "  warn(msg)\n"
          ]
        },
        {
          "data": {
            "text/html": [
              "<div>\n",
              "<style scoped>\n",
              "    .dataframe tbody tr th:only-of-type {\n",
              "        vertical-align: middle;\n",
              "    }\n",
              "\n",
              "    .dataframe tbody tr th {\n",
              "        vertical-align: top;\n",
              "    }\n",
              "\n",
              "    .dataframe thead th {\n",
              "        text-align: right;\n",
              "    }\n",
              "</style>\n",
              "<table border=\"1\" class=\"dataframe\">\n",
              "  <thead>\n",
              "    <tr style=\"text-align: right;\">\n",
              "      <th></th>\n",
              "      <th>EDAD</th>\n",
              "      <th>DIABETES</th>\n",
              "      <th>HOSPITALIZACIÓN ULTIMO MES</th>\n",
              "      <th>PSA</th>\n",
              "      <th>BIOPSIAS PREVIAS</th>\n",
              "      <th>VOLUMEN PROSTATICO</th>\n",
              "      <th>ANTIBIOTICO UTILIAZADO EN LA PROFILAXIS</th>\n",
              "      <th>NUMERO DE MUESTRAS TOMADAS</th>\n",
              "      <th>CUP</th>\n",
              "      <th>ENF. CRONICA PULMONAR OBSTRUCTIVA</th>\n",
              "      <th>BIOPSIA</th>\n",
              "      <th>NUMERO DE DIAS POST BIOPSIA EN QUE SE PRESENTA LA COMPLICACIÓN INFECCIOSA</th>\n",
              "      <th>FIEBRE</th>\n",
              "      <th>ITU</th>\n",
              "      <th>TIPO DE CULTIVO</th>\n",
              "      <th>AGENTE AISLADO</th>\n",
              "      <th>PATRON DE RESISTENCIA</th>\n",
              "      <th>HOSPITALIZACION</th>\n",
              "      <th>DIAS HOSPITALIZACION MQ</th>\n",
              "      <th>DIAS HOSPITALIZACIÓN UPC</th>\n",
              "    </tr>\n",
              "  </thead>\n",
              "  <tbody>\n",
              "    <tr>\n",
              "      <th>0</th>\n",
              "      <td>53.0</td>\n",
              "      <td>NO</td>\n",
              "      <td>NO</td>\n",
              "      <td>4.00</td>\n",
              "      <td>NO</td>\n",
              "      <td>SI</td>\n",
              "      <td>FLUOROQUINOLONA_AMINOGLICOSIDO</td>\n",
              "      <td>12.0</td>\n",
              "      <td>NO</td>\n",
              "      <td>NO</td>\n",
              "      <td>NEG</td>\n",
              "      <td>1</td>\n",
              "      <td>SI</td>\n",
              "      <td>NO</td>\n",
              "      <td>NO</td>\n",
              "      <td>NO</td>\n",
              "      <td>NO</td>\n",
              "      <td>SI</td>\n",
              "      <td>2.0</td>\n",
              "      <td>0.0</td>\n",
              "    </tr>\n",
              "    <tr>\n",
              "      <th>1</th>\n",
              "      <td>56.0</td>\n",
              "      <td>NO</td>\n",
              "      <td>NO</td>\n",
              "      <td>7.70</td>\n",
              "      <td>NO</td>\n",
              "      <td>SI</td>\n",
              "      <td>FLUOROQUINOLONA_AMINOGLICOSIDO</td>\n",
              "      <td>12.0</td>\n",
              "      <td>NO</td>\n",
              "      <td>NO</td>\n",
              "      <td>NEG</td>\n",
              "      <td>1</td>\n",
              "      <td>SI</td>\n",
              "      <td>NO</td>\n",
              "      <td>NO</td>\n",
              "      <td>NO</td>\n",
              "      <td>NO</td>\n",
              "      <td>SI</td>\n",
              "      <td>5.0</td>\n",
              "      <td>0.0</td>\n",
              "    </tr>\n",
              "    <tr>\n",
              "      <th>2</th>\n",
              "      <td>57.0</td>\n",
              "      <td>NO</td>\n",
              "      <td>NO</td>\n",
              "      <td>29.00</td>\n",
              "      <td>SI</td>\n",
              "      <td>SI</td>\n",
              "      <td>FLUOROQUINOLONA_AMINOGLICOSIDO</td>\n",
              "      <td>24.0</td>\n",
              "      <td>NO</td>\n",
              "      <td>NO</td>\n",
              "      <td>NEG</td>\n",
              "      <td>1</td>\n",
              "      <td>SI</td>\n",
              "      <td>NO</td>\n",
              "      <td>HEMOCULTIVO</td>\n",
              "      <td>E.COLI</td>\n",
              "      <td>AMPI R, CIPRO R, GENTA R, SULFA M R</td>\n",
              "      <td>SI</td>\n",
              "      <td>4.0</td>\n",
              "      <td>3.0</td>\n",
              "    </tr>\n",
              "    <tr>\n",
              "      <th>3</th>\n",
              "      <td>56.0</td>\n",
              "      <td>NO</td>\n",
              "      <td>NO</td>\n",
              "      <td>7.00</td>\n",
              "      <td>NO</td>\n",
              "      <td>SI</td>\n",
              "      <td>FLUOROQUINOLONA_AMINOGLICOSIDO</td>\n",
              "      <td>12.0</td>\n",
              "      <td>NO</td>\n",
              "      <td>NO</td>\n",
              "      <td>NEG</td>\n",
              "      <td>1</td>\n",
              "      <td>SI</td>\n",
              "      <td>NO</td>\n",
              "      <td>NO</td>\n",
              "      <td>NO</td>\n",
              "      <td>NO</td>\n",
              "      <td>SI</td>\n",
              "      <td>5.0</td>\n",
              "      <td>0.0</td>\n",
              "    </tr>\n",
              "    <tr>\n",
              "      <th>4</th>\n",
              "      <td>55.0</td>\n",
              "      <td>NO</td>\n",
              "      <td>NO</td>\n",
              "      <td>29.00</td>\n",
              "      <td>SI</td>\n",
              "      <td>SI</td>\n",
              "      <td>FLUOROQUINOLONA_AMINOGLICOSIDO</td>\n",
              "      <td>24.0</td>\n",
              "      <td>NO</td>\n",
              "      <td>NO</td>\n",
              "      <td>NEG</td>\n",
              "      <td>1</td>\n",
              "      <td>SI</td>\n",
              "      <td>NO</td>\n",
              "      <td>HEMOCULTIVO</td>\n",
              "      <td>E.COLI</td>\n",
              "      <td>NO</td>\n",
              "      <td>SI</td>\n",
              "      <td>4.0</td>\n",
              "      <td>3.0</td>\n",
              "    </tr>\n",
              "    <tr>\n",
              "      <th>...</th>\n",
              "      <td>...</td>\n",
              "      <td>...</td>\n",
              "      <td>...</td>\n",
              "      <td>...</td>\n",
              "      <td>...</td>\n",
              "      <td>...</td>\n",
              "      <td>...</td>\n",
              "      <td>...</td>\n",
              "      <td>...</td>\n",
              "      <td>...</td>\n",
              "      <td>...</td>\n",
              "      <td>...</td>\n",
              "      <td>...</td>\n",
              "      <td>...</td>\n",
              "      <td>...</td>\n",
              "      <td>...</td>\n",
              "      <td>...</td>\n",
              "      <td>...</td>\n",
              "      <td>...</td>\n",
              "      <td>...</td>\n",
              "    </tr>\n",
              "    <tr>\n",
              "      <th>565</th>\n",
              "      <td>69.0</td>\n",
              "      <td>NO</td>\n",
              "      <td>NO</td>\n",
              "      <td>4.43</td>\n",
              "      <td>NaN</td>\n",
              "      <td>NaN</td>\n",
              "      <td>FLUOROQUINOLONA_AMINOGLICOSIDO</td>\n",
              "      <td>20.0</td>\n",
              "      <td>NaN</td>\n",
              "      <td>NO</td>\n",
              "      <td>NEG</td>\n",
              "      <td>NO</td>\n",
              "      <td>NO</td>\n",
              "      <td>NO</td>\n",
              "      <td>NO</td>\n",
              "      <td>NO</td>\n",
              "      <td>NO</td>\n",
              "      <td>NO</td>\n",
              "      <td>0.0</td>\n",
              "      <td>0.0</td>\n",
              "    </tr>\n",
              "    <tr>\n",
              "      <th>566</th>\n",
              "      <td>67.0</td>\n",
              "      <td>NO</td>\n",
              "      <td>NO</td>\n",
              "      <td>8.00</td>\n",
              "      <td>NO</td>\n",
              "      <td>SI</td>\n",
              "      <td>FLUOROQUINOLONA_AMINOGLICOSIDO</td>\n",
              "      <td>12.0</td>\n",
              "      <td>NO</td>\n",
              "      <td>NaN</td>\n",
              "      <td>ADENOCARCINOMA GLEASON 7</td>\n",
              "      <td>NO</td>\n",
              "      <td>NO</td>\n",
              "      <td>NO</td>\n",
              "      <td>NO</td>\n",
              "      <td>NaN</td>\n",
              "      <td>NO</td>\n",
              "      <td>NO</td>\n",
              "      <td>0.0</td>\n",
              "      <td>0.0</td>\n",
              "    </tr>\n",
              "    <tr>\n",
              "      <th>567</th>\n",
              "      <td>59.0</td>\n",
              "      <td>NO</td>\n",
              "      <td>NO</td>\n",
              "      <td>9.00</td>\n",
              "      <td>SI</td>\n",
              "      <td>SI</td>\n",
              "      <td>FLUOROQUINOLONA_AMINOGLICOSIDO</td>\n",
              "      <td>12.0</td>\n",
              "      <td>NO</td>\n",
              "      <td>NaN</td>\n",
              "      <td>NEG</td>\n",
              "      <td>NO</td>\n",
              "      <td>NO</td>\n",
              "      <td>NO</td>\n",
              "      <td>NO</td>\n",
              "      <td>NO</td>\n",
              "      <td>NO</td>\n",
              "      <td>NO</td>\n",
              "      <td>0.0</td>\n",
              "      <td>0.0</td>\n",
              "    </tr>\n",
              "    <tr>\n",
              "      <th>568</th>\n",
              "      <td>NaN</td>\n",
              "      <td>NaN</td>\n",
              "      <td>NaN</td>\n",
              "      <td>NaN</td>\n",
              "      <td>NaN</td>\n",
              "      <td>NaN</td>\n",
              "      <td>NaN</td>\n",
              "      <td>NaN</td>\n",
              "      <td>NaN</td>\n",
              "      <td>NaN</td>\n",
              "      <td>NaN</td>\n",
              "      <td>NaN</td>\n",
              "      <td>NaN</td>\n",
              "      <td>NaN</td>\n",
              "      <td>NaN</td>\n",
              "      <td>NaN</td>\n",
              "      <td>NaN</td>\n",
              "      <td>NaN</td>\n",
              "      <td>NaN</td>\n",
              "      <td>NaN</td>\n",
              "    </tr>\n",
              "    <tr>\n",
              "      <th>569</th>\n",
              "      <td>NaN</td>\n",
              "      <td>NaN</td>\n",
              "      <td>NaN</td>\n",
              "      <td>NaN</td>\n",
              "      <td>NaN</td>\n",
              "      <td>NaN</td>\n",
              "      <td>NaN</td>\n",
              "      <td>NaN</td>\n",
              "      <td>NaN</td>\n",
              "      <td>NaN</td>\n",
              "      <td>NaN</td>\n",
              "      <td>NaN</td>\n",
              "      <td>NaN</td>\n",
              "      <td>NaN</td>\n",
              "      <td>NaN</td>\n",
              "      <td>NaN</td>\n",
              "      <td>NaN</td>\n",
              "      <td>NaN</td>\n",
              "      <td>NaN</td>\n",
              "      <td>NaN</td>\n",
              "    </tr>\n",
              "  </tbody>\n",
              "</table>\n",
              "<p>570 rows × 20 columns</p>\n",
              "</div>"
            ],
            "text/plain": [
              "     EDAD DIABETES HOSPITALIZACIÓN ULTIMO MES    PSA BIOPSIAS PREVIAS  \\\n",
              "0    53.0       NO                         NO   4.00               NO   \n",
              "1    56.0       NO                         NO   7.70               NO   \n",
              "2    57.0       NO                         NO  29.00               SI   \n",
              "3    56.0       NO                         NO   7.00               NO   \n",
              "4    55.0       NO                         NO  29.00               SI   \n",
              "..    ...      ...                        ...    ...              ...   \n",
              "565  69.0       NO                         NO   4.43              NaN   \n",
              "566  67.0       NO                         NO   8.00               NO   \n",
              "567  59.0       NO                         NO   9.00               SI   \n",
              "568   NaN      NaN                        NaN    NaN              NaN   \n",
              "569   NaN      NaN                        NaN    NaN              NaN   \n",
              "\n",
              "    VOLUMEN PROSTATICO ANTIBIOTICO UTILIAZADO EN LA PROFILAXIS  \\\n",
              "0                   SI          FLUOROQUINOLONA_AMINOGLICOSIDO   \n",
              "1                   SI          FLUOROQUINOLONA_AMINOGLICOSIDO   \n",
              "2                   SI          FLUOROQUINOLONA_AMINOGLICOSIDO   \n",
              "3                   SI          FLUOROQUINOLONA_AMINOGLICOSIDO   \n",
              "4                   SI          FLUOROQUINOLONA_AMINOGLICOSIDO   \n",
              "..                 ...                                     ...   \n",
              "565                NaN          FLUOROQUINOLONA_AMINOGLICOSIDO   \n",
              "566                 SI          FLUOROQUINOLONA_AMINOGLICOSIDO   \n",
              "567                 SI          FLUOROQUINOLONA_AMINOGLICOSIDO   \n",
              "568                NaN                                     NaN   \n",
              "569                NaN                                     NaN   \n",
              "\n",
              "     NUMERO DE MUESTRAS TOMADAS  CUP ENF. CRONICA PULMONAR OBSTRUCTIVA  \\\n",
              "0                          12.0   NO                                NO   \n",
              "1                          12.0   NO                                NO   \n",
              "2                          24.0   NO                                NO   \n",
              "3                          12.0   NO                                NO   \n",
              "4                          24.0   NO                                NO   \n",
              "..                          ...  ...                               ...   \n",
              "565                        20.0  NaN                                NO   \n",
              "566                        12.0   NO                               NaN   \n",
              "567                        12.0   NO                               NaN   \n",
              "568                         NaN  NaN                               NaN   \n",
              "569                         NaN  NaN                               NaN   \n",
              "\n",
              "                       BIOPSIA  \\\n",
              "0                          NEG   \n",
              "1                          NEG   \n",
              "2                          NEG   \n",
              "3                          NEG   \n",
              "4                          NEG   \n",
              "..                         ...   \n",
              "565                        NEG   \n",
              "566  ADENOCARCINOMA GLEASON 7    \n",
              "567                        NEG   \n",
              "568                        NaN   \n",
              "569                        NaN   \n",
              "\n",
              "    NUMERO DE DIAS POST BIOPSIA EN QUE SE PRESENTA LA COMPLICACIÓN INFECCIOSA  \\\n",
              "0                                                    1                          \n",
              "1                                                    1                          \n",
              "2                                                    1                          \n",
              "3                                                    1                          \n",
              "4                                                    1                          \n",
              "..                                                 ...                          \n",
              "565                                                 NO                          \n",
              "566                                                 NO                          \n",
              "567                                                 NO                          \n",
              "568                                                NaN                          \n",
              "569                                                NaN                          \n",
              "\n",
              "    FIEBRE  ITU TIPO DE CULTIVO AGENTE AISLADO  \\\n",
              "0       SI   NO              NO             NO   \n",
              "1       SI   NO              NO             NO   \n",
              "2       SI   NO     HEMOCULTIVO         E.COLI   \n",
              "3       SI   NO              NO             NO   \n",
              "4       SI   NO     HEMOCULTIVO         E.COLI   \n",
              "..     ...  ...             ...            ...   \n",
              "565     NO   NO              NO             NO   \n",
              "566     NO   NO              NO            NaN   \n",
              "567     NO   NO              NO             NO   \n",
              "568    NaN  NaN             NaN            NaN   \n",
              "569    NaN  NaN             NaN            NaN   \n",
              "\n",
              "                    PATRON DE RESISTENCIA HOSPITALIZACION  \\\n",
              "0                                      NO              SI   \n",
              "1                                      NO              SI   \n",
              "2     AMPI R, CIPRO R, GENTA R, SULFA M R              SI   \n",
              "3                                      NO              SI   \n",
              "4                                      NO              SI   \n",
              "..                                    ...             ...   \n",
              "565                                    NO              NO   \n",
              "566                                    NO              NO   \n",
              "567                                    NO              NO   \n",
              "568                                   NaN             NaN   \n",
              "569                                   NaN             NaN   \n",
              "\n",
              "     DIAS HOSPITALIZACION MQ  DIAS HOSPITALIZACIÓN UPC  \n",
              "0                        2.0                       0.0  \n",
              "1                        5.0                       0.0  \n",
              "2                        4.0                       3.0  \n",
              "3                        5.0                       0.0  \n",
              "4                        4.0                       3.0  \n",
              "..                       ...                       ...  \n",
              "565                      0.0                       0.0  \n",
              "566                      0.0                       0.0  \n",
              "567                      0.0                       0.0  \n",
              "568                      NaN                       NaN  \n",
              "569                      NaN                       NaN  \n",
              "\n",
              "[570 rows x 20 columns]"
            ]
          },
          "execution_count": 2,
          "metadata": {},
          "output_type": "execute_result"
        }
      ],
      "source": [
        "ruta_completa = r'C:\\Users\\juana\\Desktop\\Cursos Python\\HENRY\\M6\\Proyecto Integrador\\Propuesta 1\\BBDD_Hospitalización.xlsx'\n",
        "df = pd.read_excel(ruta_completa)\n",
        "df\n",
        "\n",
        "# Mostrar las primeras filas del conjunto de datos\n",
        "#df.head()\n"
      ]
    },
    {
      "cell_type": "code",
      "execution_count": 3,
      "metadata": {},
      "outputs": [
        {
          "name": "stdout",
          "output_type": "stream",
          "text": [
            "Valores únicos en la variable 'DIABETES_SI':\n",
            "[False  True]\n",
            "Valores únicos en la variable 'HOSPITALIZACIÓN ULTIMO MES_SI':\n",
            "[False  True]\n",
            "Valores únicos en la variable 'BIOPSIAS PREVIAS_SI':\n",
            "[False  True]\n",
            "Valores únicos en la variable 'VOLUMEN PROSTATICO_SI':\n",
            "[ True False]\n",
            "Valores únicos en la variable 'CUP_SI':\n",
            "[False  True]\n",
            "Valores únicos en la variable 'ENF. CRONICA PULMONAR OBSTRUCTIVA_SI':\n",
            "[False  True]\n",
            "Valores únicos en la variable 'FIEBRE_SI':\n",
            "[ True False]\n",
            "Valores únicos en la variable 'ITU_SI':\n",
            "[False  True]\n"
          ]
        },
        {
          "name": "stderr",
          "output_type": "stream",
          "text": [
            "C:\\Users\\juana\\AppData\\Local\\Packages\\PythonSoftwareFoundation.Python.3.11_qbz5n2kfra8p0\\LocalCache\\local-packages\\Python311\\site-packages\\openpyxl\\worksheet\\_reader.py:329: UserWarning: Unknown extension is not supported and will be removed\n",
            "  warn(msg)\n"
          ]
        }
      ],
      "source": [
        "import pandas as pd\n",
        "import numpy as np\n",
        "\n",
        "# Cargar los datos\n",
        "ruta_completa = r'C:\\Users\\juana\\Desktop\\Cursos Python\\HENRY\\M6\\Proyecto Integrador\\Propuesta 1\\BBDD_Hospitalización.xlsx'\n",
        "df = pd.read_excel(ruta_completa)\n",
        "\n",
        "# Tratar valores faltantes\n",
        "df.dropna(inplace=True)  # Eliminar filas con valores faltantes\n",
        "\n",
        "# Tratar duplicados\n",
        "df.drop_duplicates(inplace=True)  # Eliminar filas duplicadas\n",
        "\n",
        "# Lista de columnas a codificar\n",
        "columnas_a_codificar = ['DIABETES', 'HOSPITALIZACIÓN ULTIMO MES', 'BIOPSIAS PREVIAS', 'VOLUMEN PROSTATICO', 'ANTIBIOTICO UTILIAZADO EN LA PROFILAXIS', 'CUP', 'ENF. CRONICA PULMONAR OBSTRUCTIVA', 'BIOPSIA', 'FIEBRE', 'ITU', 'TIPO DE CULTIVO', 'AGENTE AISLADO', 'PATRON DE RESISTENCIA']\n",
        "\n",
        "# Aplicar one-hot encoding a las columnas seleccionadas\n",
        "df = pd.get_dummies(df, columns=columnas_a_codificar, drop_first=True)\n",
        "\n",
        "# Aplicar la transformación logarítmica a la columna 'PSA'\n",
        "df['PSA'] = np.log1p(df['PSA'])\n",
        "\n",
        "# Ver valores únicos en las variables categóricas\n",
        "variables_si = [col for col in df.columns if col.endswith('_SI')]\n",
        "for variable in variables_si:\n",
        "    print(f\"Valores únicos en la variable '{variable}':\")\n",
        "    print(df[variable].unique())\n",
        "\n"
      ]
    },
    {
      "cell_type": "markdown",
      "metadata": {
        "id": "X33Od3Y_Lrye"
      },
      "source": [
        "Separen el dataset en X, y (variable objetivo)"
      ]
    },
    {
      "cell_type": "code",
      "execution_count": 4,
      "metadata": {},
      "outputs": [
        {
          "name": "stdout",
          "output_type": "stream",
          "text": [
            "Index(['EDAD', 'PSA', 'NUMERO DE MUESTRAS TOMADAS',\n",
            "       'NUMERO DE DIAS POST BIOPSIA EN QUE SE PRESENTA LA COMPLICACIÓN INFECCIOSA',\n",
            "       'HOSPITALIZACION', 'DIAS HOSPITALIZACION MQ',\n",
            "       'DIAS HOSPITALIZACIÓN UPC', 'DIABETES_SI',\n",
            "       'HOSPITALIZACIÓN ULTIMO MES_SI', 'BIOPSIAS PREVIAS_SI',\n",
            "       'VOLUMEN PROSTATICO_SI',\n",
            "       'ANTIBIOTICO UTILIAZADO EN LA PROFILAXIS_FLUOROQUINOLONA_AMINOGLICOSIDO',\n",
            "       'ANTIBIOTICO UTILIAZADO EN LA PROFILAXIS_FLUOROQUINOLONA_AMINOGLICÓSIDO',\n",
            "       'ANTIBIOTICO UTILIAZADO EN LA PROFILAXIS_OROQUINOLONAS',\n",
            "       'ANTIBIOTICO UTILIAZADO EN LA PROFILAXIS_OTROS', 'CUP_SI',\n",
            "       'ENF. CRONICA PULMONAR OBSTRUCTIVA_SI',\n",
            "       'ENF. CRONICA PULMONAR OBSTRUCTIVA_SI, ASMA',\n",
            "       'ENF. CRONICA PULMONAR OBSTRUCTIVA_SI, EPOC',\n",
            "       'BIOPSIA_ADENOCARCINOMA GLEASON 6', 'BIOPSIA_ADENOCARCINOMA GLEASON 6 ',\n",
            "       'BIOPSIA_ADENOCARCINOMA GLEASON 7', 'BIOPSIA_ADENOCARCINOMA GLEASON 7 ',\n",
            "       'BIOPSIA_ADENOCARCINOMA GLEASON 8 ',\n",
            "       'BIOPSIA_ADENOCARCINOMA GLEASON 9 ',\n",
            "       'BIOPSIA_CARCINOMA INDIFERENCIADO DE CELULAS CLARAS',\n",
            "       'BIOPSIA_HIPERPLASIA PROSTATICA', 'BIOPSIA_NEG', 'BIOPSIA_PROSTATITIS',\n",
            "       'FIEBRE_SI', 'ITU_SI', 'TIPO DE CULTIVO_HEMOCULTIVO Y UROCULTIVO',\n",
            "       'TIPO DE CULTIVO_NO', 'TIPO DE CULTIVO_UROCULTIVO', 'AGENTE AISLADO_NO',\n",
            "       'AGENTE AISLADO_PSEUDOMONAS AERUGINOSA',\n",
            "       'PATRON DE RESISTENCIA_MULTI SENSIBLE', 'PATRON DE RESISTENCIA_NO',\n",
            "       'PATRON DE RESISTENCIA_RESISTENTE A AMPI, CIPRO Y GENTA',\n",
            "       'PATRON DE RESISTENCIA_RESISTENTE A AMPI, SULFA, CEFADROXILO, CEFUROXIMO, CIPRO Y CEFEPIME, CEFOTAXIMA'],\n",
            "      dtype='object')\n"
          ]
        }
      ],
      "source": [
        "# Imprimir las columnas del DataFrame\n",
        "print(df.columns)\n"
      ]
    },
    {
      "cell_type": "code",
      "execution_count": 5,
      "metadata": {},
      "outputs": [],
      "source": [
        "from sklearn.model_selection import train_test_split\n",
        "from sklearn.linear_model import LogisticRegression\n",
        "from sklearn.metrics import accuracy_score, classification_report\n",
        "\n",
        "# Dividir los datos en conjunto de entrenamiento y prueba\n",
        "X = df.drop('HOSPITALIZACION', axis=1)  # Características\n",
        "y = df['HOSPITALIZACION']  # Variable objetivo\n",
        "\n",
        "# Seleccionar otras características para X\n",
        "X = X[['EDAD', 'PSA', 'DIABETES_SI', 'ITU_SI']]\n",
        "\n",
        "\n"
      ]
    },
    {
      "cell_type": "code",
      "execution_count": 6,
      "metadata": {},
      "outputs": [
        {
          "name": "stdout",
          "output_type": "stream",
          "text": [
            "Precisión del modelo: 0.9310344827586207\n",
            "Informe de clasificación:\n",
            "               precision    recall  f1-score   support\n",
            "\n",
            "          NO       0.93      1.00      0.96        81\n",
            "          SI       0.00      0.00      0.00         6\n",
            "\n",
            "    accuracy                           0.93        87\n",
            "   macro avg       0.47      0.50      0.48        87\n",
            "weighted avg       0.87      0.93      0.90        87\n",
            "\n"
          ]
        },
        {
          "name": "stderr",
          "output_type": "stream",
          "text": [
            "C:\\Users\\juana\\AppData\\Local\\Packages\\PythonSoftwareFoundation.Python.3.11_qbz5n2kfra8p0\\LocalCache\\local-packages\\Python311\\site-packages\\sklearn\\metrics\\_classification.py:1469: UndefinedMetricWarning: Precision and F-score are ill-defined and being set to 0.0 in labels with no predicted samples. Use `zero_division` parameter to control this behavior.\n",
            "  _warn_prf(average, modifier, msg_start, len(result))\n",
            "C:\\Users\\juana\\AppData\\Local\\Packages\\PythonSoftwareFoundation.Python.3.11_qbz5n2kfra8p0\\LocalCache\\local-packages\\Python311\\site-packages\\sklearn\\metrics\\_classification.py:1469: UndefinedMetricWarning: Precision and F-score are ill-defined and being set to 0.0 in labels with no predicted samples. Use `zero_division` parameter to control this behavior.\n",
            "  _warn_prf(average, modifier, msg_start, len(result))\n",
            "C:\\Users\\juana\\AppData\\Local\\Packages\\PythonSoftwareFoundation.Python.3.11_qbz5n2kfra8p0\\LocalCache\\local-packages\\Python311\\site-packages\\sklearn\\metrics\\_classification.py:1469: UndefinedMetricWarning: Precision and F-score are ill-defined and being set to 0.0 in labels with no predicted samples. Use `zero_division` parameter to control this behavior.\n",
            "  _warn_prf(average, modifier, msg_start, len(result))\n"
          ]
        }
      ],
      "source": [
        "from sklearn.model_selection import train_test_split\n",
        "from sklearn.linear_model import LogisticRegression\n",
        "from sklearn.metrics import accuracy_score, classification_report\n",
        "\n",
        "# Dividir los datos en conjunto de entrenamiento y prueba\n",
        "X = df[['EDAD', 'PSA', 'DIABETES_SI', 'ITU_SI']]  # Características \n",
        "\n",
        "  # Características\n",
        "y = df['HOSPITALIZACION']  # Variable objetivo\n",
        "\n",
        "\n",
        "\n",
        "X_train, X_test, y_train, y_test = train_test_split(X, y, test_size=0.2, random_state=42)\n",
        "\n",
        "# Inicializar y entrenar un modelo de regresión logística\n",
        "modelo = LogisticRegression()\n",
        "modelo.fit(X_train, y_train)\n",
        "\n",
        "# Realizar predicciones en el conjunto de prueba\n",
        "y_pred = modelo.predict(X_test)\n",
        "\n",
        "# Calcular la precisión del modelo\n",
        "precision = accuracy_score(y_test, y_pred)\n",
        "print(\"Precisión del modelo:\", precision)\n",
        "\n",
        "# Mostrar un informe de clasificación detallado\n",
        "informe = classification_report(y_test, y_pred)\n",
        "print(\"Informe de clasificación:\\n\", informe)\n"
      ]
    },
    {
      "cell_type": "markdown",
      "metadata": {
        "id": "mTV2RdmbMoRE"
      },
      "source": [
        "Separen el dataset en X_train, X_test, y_train y y_test"
      ]
    },
    {
      "cell_type": "code",
      "execution_count": 7,
      "metadata": {
        "id": "ILzt6oOaM1ag"
      },
      "outputs": [],
      "source": [
        "X_train, X_test, y_train, y_test = train_test_split(X, y, test_size=0.2, random_state=42)\n"
      ]
    },
    {
      "cell_type": "code",
      "execution_count": 8,
      "metadata": {},
      "outputs": [],
      "source": [
        "from sklearn.tree import DecisionTreeClassifier\n"
      ]
    },
    {
      "cell_type": "markdown",
      "metadata": {
        "id": "zyQIaY1bM12g"
      },
      "source": [
        "Instancien, entrenen y predigan sobre un árbol de decisión asignando una profundidad máxima arbitraria"
      ]
    },
    {
      "cell_type": "code",
      "execution_count": 9,
      "metadata": {},
      "outputs": [],
      "source": [
        "profundidad_maxima_arbitraria = 5\n",
        "arbol_decision = DecisionTreeClassifier(max_depth=profundidad_maxima_arbitraria)\n"
      ]
    },
    {
      "cell_type": "code",
      "execution_count": 10,
      "metadata": {
        "id": "HO3Db1YQM9JS"
      },
      "outputs": [
        {
          "name": "stdout",
          "output_type": "stream",
          "text": [
            "Precisión del modelo: 0.9540229885057471\n"
          ]
        }
      ],
      "source": [
        "# Importar las bibliotecas necesarias\n",
        "from sklearn.tree import DecisionTreeClassifier\n",
        "from sklearn.model_selection import train_test_split\n",
        "from sklearn.metrics import accuracy_score\n",
        "\n",
        "# Dividir los datos en conjunto de entrenamiento y prueba\n",
        "X = df.drop('HOSPITALIZACION', axis=1)  # Características\n",
        "y = df['HOSPITALIZACION']  # Variable objetivo\n",
        "\n",
        "# Seleccionar las características para X\n",
        "X = X[['EDAD', 'PSA', 'DIABETES_SI', 'ITU_SI']]\n",
        "\n",
        "# Dividir los datos en conjuntos de entrenamiento y prueba\n",
        "X_train, X_test, y_train, y_test = train_test_split(X, y, test_size=0.2, random_state=42)\n",
        "\n",
        "# Inicializar y entrenar un modelo de árbol de decisión\n",
        "arbol_decision = DecisionTreeClassifier(max_depth=5)  # Puedes ajustar la profundidad máxima\n",
        "arbol_decision.fit(X_train, y_train)\n",
        "\n",
        "# Realizar predicciones en el conjunto de prueba\n",
        "y_pred = arbol_decision.predict(X_test)\n",
        "\n",
        "# Calcular la precisión del modelo\n",
        "precision = accuracy_score(y_test, y_pred)\n",
        "print(\"Precisión del modelo:\", precision)\n"
      ]
    },
    {
      "cell_type": "markdown",
      "metadata": {
        "id": "HAZhxOMyNFON"
      },
      "source": [
        "Realicen la matriz de confusión para este modelo. Se recomienda utilizar mapa de calor para la visualización. "
      ]
    },
    {
      "cell_type": "code",
      "execution_count": 11,
      "metadata": {
        "id": "_GpXEa1oNQfG"
      },
      "outputs": [],
      "source": [
        "import seaborn as sns\n",
        "import matplotlib.pyplot as plt\n",
        "from sklearn.metrics import confusion_matrix\n"
      ]
    },
    {
      "cell_type": "code",
      "execution_count": 12,
      "metadata": {},
      "outputs": [
        {
          "data": {
            "image/png": "[encoded data removed]",
            "text/plain": [
              "<Figure size 800x600 with 1 Axes>"
            ]
          },
          "metadata": {},
          "output_type": "display_data"
        }
      ],
      "source": [
        "# Calcular la matriz de confusión\n",
        "matriz_confusion = confusion_matrix(y_test, y_pred)\n",
        "\n",
        "# Crear un mapa de calor para visualizar la matriz de confusión\n",
        "plt.figure(figsize=(8, 6))\n",
        "sns.heatmap(matriz_confusion, annot=True, fmt=\"d\", cmap=\"Blues\", cbar=False, xticklabels=[\"No Hospitalizado\", \"Hospitalizado\"], yticklabels=[\"No Hospitalizado\", \"Hospitalizado\"])\n",
        "plt.xlabel(\"Predicción\")\n",
        "plt.ylabel(\"Valor Real\")\n",
        "plt.title(\"Matriz de Confusión\")\n",
        "plt.show()\n"
      ]
    },
    {
      "cell_type": "markdown",
      "metadata": {
        "id": "CmRUpq9FMcsi"
      },
      "source": [
        "Seleccione tres métricas de evaluación para este modelo de clasificación y describa el significado de cada una de ellas para el modelo creado."
      ]
    },
    {
      "cell_type": "code",
      "execution_count": 13,
      "metadata": {
        "id": "xSSe-ZHpMmdz"
      },
      "outputs": [
        {
          "name": "stdout",
          "output_type": "stream",
          "text": [
            "Precisión: 0.95\n",
            "Recall: 0.33\n",
            "F1-Score: 0.50\n"
          ]
        }
      ],
      "source": [
        "from sklearn.metrics import accuracy_score, recall_score, precision_score, f1_score\n",
        "\n",
        "# Calcular la precisión del modelo\n",
        "precision = accuracy_score(y_test, y_pred)\n",
        "print(f'Precisión: {precision:.2f}')\n",
        "\n",
        "# Calcular el recall del modelo especificando pos_label=\"SI\"\n",
        "recall = recall_score(y_test, y_pred, pos_label=\"SI\")\n",
        "print(f'Recall: {recall:.2f}')\n",
        "\n",
        "# Calcular el F1-Score del modelo especificando pos_label=\"SI\"\n",
        "f1 = f1_score(y_test, y_pred, pos_label=\"SI\")\n",
        "print(f'F1-Score: {f1:.2f}')\n",
        "\n"
      ]
    },
    {
      "cell_type": "markdown",
      "metadata": {
        "id": "b_u-bC8FNTkT"
      },
      "source": [
        "Realice un diagrama de la importancia de cada variable respecto a la clasificación de la variable objetivo"
      ]
    },
    {
      "cell_type": "code",
      "execution_count": 14,
      "metadata": {
        "id": "I9w7a6dXNYPz"
      },
      "outputs": [
        {
          "data": {
            "image/png": "[encoded data removed]",
            "text/plain": [
              "<Figure size 1000x600 with 1 Axes>"
            ]
          },
          "metadata": {},
          "output_type": "display_data"
        }
      ],
      "source": [
        "import matplotlib.pyplot as plt\n",
        "from sklearn.tree import DecisionTreeClassifier\n",
        "\n",
        "# Crear y entrenar un modelo de Árbol de Decisión\n",
        "arbol_decision = DecisionTreeClassifier(max_depth=3)  # Puedes ajustar la profundidad del árbol según tus necesidades\n",
        "arbol_decision.fit(X_train, y_train)\n",
        "\n",
        "# Obtener la importancia de las características\n",
        "importancias = arbol_decision.feature_importances_\n",
        "\n",
        "# Obtener los nombres de las características\n",
        "nombres_caracteristicas = X.columns\n",
        "\n",
        "# Crear un gráfico de barras para visualizar la importancia de las características\n",
        "plt.figure(figsize=(10, 6))\n",
        "plt.barh(nombres_caracteristicas, importancias)\n",
        "plt.xlabel('Importancia')\n",
        "plt.title('Importancia de las Características')\n",
        "plt.show()\n"
      ]
    },
    {
      "cell_type": "markdown",
      "metadata": {
        "id": "E3k9TEhuSU9i"
      },
      "source": [
        "Encuentre cuál sería un valor óptimo para el hiperparámetro **max_depth** para el árbol de decisión. Construya un modelo con este valor y compare las métricas de evaluación respecto al modelo creado con una profundidad arbitraria. "
      ]
    },
    {
      "cell_type": "code",
      "execution_count": 15,
      "metadata": {
        "id": "CUdKvPY0S1SC"
      },
      "outputs": [
        {
          "name": "stdout",
          "output_type": "stream",
          "text": [
            "Profundidad óptima: 1\n",
            "Precisión con profundidad óptima: 0.95\n",
            "Recall con profundidad óptima: 0.33\n",
            "F1-Score con profundidad óptima: 0.50\n"
          ]
        }
      ],
      "source": [
        "from sklearn.tree import DecisionTreeClassifier\n",
        "from sklearn.model_selection import cross_val_score\n",
        "\n",
        "# Lista de valores de max_depth \n",
        "profundidades = [1, 2, 3, 4, 5, 6, 7, 8, 9, 10]\n",
        "\n",
        "# Lista para almacenar las puntuaciones de validación cruzada\n",
        "puntuaciones = []\n",
        "\n",
        "# Itera sobre los valores de max_depth y calcula las puntuaciones\n",
        "for profundidad in profundidades:\n",
        "    arbol_decision = DecisionTreeClassifier(max_depth=profundidad)\n",
        "    puntuacion = cross_val_score(arbol_decision, X, y, cv=5, scoring='accuracy')  # Utiliza la precisión como métrica\n",
        "    puntuaciones.append(puntuacion.mean())\n",
        "\n",
        "# Encuentra la profundidad óptima con la mejor puntuación\n",
        "profundidad_optima = profundidades[puntuaciones.index(max(puntuaciones))]\n",
        "\n",
        "print(f'Profundidad óptima: {profundidad_optima}')\n",
        "\n",
        "# Crea y entrena un modelo con la profundidad óptima\n",
        "modelo_optimo = DecisionTreeClassifier(max_depth=profundidad_optima)\n",
        "modelo_optimo.fit(X_train, y_train)\n",
        "\n",
        "# Realiza predicciones con el modelo óptimo\n",
        "y_pred_optimo = modelo_optimo.predict(X_test)\n",
        "\n",
        "# Calcula las métricas de evaluación con el modelo óptimo\n",
        "precision_optima = accuracy_score(y_test, y_pred_optimo)\n",
        "recall_optima = recall_score(y_test, y_pred_optimo, pos_label=\"SI\")\n",
        "f1_optima = f1_score(y_test, y_pred_optimo, pos_label=\"SI\")\n",
        "\n",
        "print(f'Precisión con profundidad óptima: {precision_optima:.2f}')\n",
        "print(f'Recall con profundidad óptima: {recall_optima:.2f}')\n",
        "print(f'F1-Score con profundidad óptima: {f1_optima:.2f}')\n"
      ]
    },
    {
      "cell_type": "markdown",
      "metadata": {
        "id": "EiqnqbBuNmmW"
      },
      "source": [
        "Instancien, entrenen y predigan sobre un modelo de k-vecinos asignando una cantidad de vecinos k-aribitraria. "
      ]
    },
    {
      "cell_type": "code",
      "execution_count": 16,
      "metadata": {
        "id": "m_n9Yfg0NmTP"
      },
      "outputs": [],
      "source": [
        "from sklearn.neighbors import KNeighborsClassifier\n",
        "\n",
        "# Instanciar el modelo KNN con una cantidad arbitraria de vecinos (k)\n",
        "k = 5  # Puedes ajustar este valor\n",
        "modelo_knn = KNeighborsClassifier(n_neighbors=k)\n",
        "\n",
        "# Entrenar el modelo con los datos de entrenamiento\n",
        "modelo_knn.fit(X_train, y_train)\n",
        "\n",
        "# Realizar predicciones en el conjunto de prueba\n",
        "y_pred_knn = modelo_knn.predict(X_test)\n"
      ]
    },
    {
      "cell_type": "markdown",
      "metadata": {
        "id": "kiZg1tfCS38i"
      },
      "source": [
        "Encuentre el valor óptimo para k"
      ]
    },
    {
      "cell_type": "code",
      "execution_count": 17,
      "metadata": {
        "id": "DVaNp3K9S7Os"
      },
      "outputs": [
        {
          "name": "stdout",
          "output_type": "stream",
          "text": [
            "Valor óptimo para k: 2\n"
          ]
        }
      ],
      "source": [
        "from sklearn.neighbors import KNeighborsClassifier\n",
        "from sklearn.model_selection import cross_val_score\n",
        "\n",
        "# Lista de valores de k que deseas probar\n",
        "valores_k = list(range(1, 21))  # Puedes ajustar este rango según tus necesidades\n",
        "\n",
        "# Lista para almacenar las puntuaciones de validación cruzada\n",
        "puntuaciones = []\n",
        "\n",
        "# Itera sobre los valores de k y calcula las puntuaciones\n",
        "for k in valores_k:\n",
        "    modelo_knn = KNeighborsClassifier(n_neighbors=k)\n",
        "    puntuacion = cross_val_score(modelo_knn, X, y, cv=5, scoring='accuracy')  # Utiliza la precisión como métrica\n",
        "    puntuaciones.append(puntuacion.mean())\n",
        "\n",
        "# Encuentra el valor óptimo de k con la mejor puntuación\n",
        "k_optimo = valores_k[puntuaciones.index(max(puntuaciones))]\n",
        "\n",
        "print(f'Valor óptimo para k: {k_optimo}')\n"
      ]
    },
    {
      "cell_type": "markdown",
      "metadata": {
        "id": "_xXX6APsNjkV"
      },
      "source": [
        "Halle las mismas tres métricas de evaluación para este modelo de clasificación y compare los valores para el performance, respecto al árbol de decisión cuyo hiperparámetro **max_depth** se optimizó. ¿Qué puede concluir? "
      ]
    },
    {
      "cell_type": "code",
      "execution_count": 18,
      "metadata": {
        "id": "paHDdRnYN_Gl"
      },
      "outputs": [
        {
          "name": "stdout",
          "output_type": "stream",
          "text": [
            "Métricas para el Árbol de Decisión óptimo:\n",
            "Precisión: 0.95\n",
            "Recall: 0.33\n",
            "F1-Score: 0.50\n",
            "\n",
            "Métricas para el modelo K-Vecinos más Cercanos óptimo:\n",
            "Precisión: 0.93\n",
            "Recall: 0.00\n",
            "F1-Score: 0.00\n"
          ]
        }
      ],
      "source": [
        "from sklearn.metrics import accuracy_score, recall_score, f1_score\n",
        "\n",
        "# Modelo de Árbol de Decisión con profundidad óptima\n",
        "arbol_decision_optimo = DecisionTreeClassifier(max_depth=profundidad_optima)\n",
        "arbol_decision_optimo.fit(X_train, y_train)\n",
        "y_pred_arbol_optimo = arbol_decision_optimo.predict(X_test)\n",
        "\n",
        "# Modelo K-Vecinos más Cercanos con k óptimo\n",
        "modelo_knn_optimo = KNeighborsClassifier(n_neighbors=k_optimo)\n",
        "modelo_knn_optimo.fit(X_train, y_train)\n",
        "y_pred_knn_optimo = modelo_knn_optimo.predict(X_test)\n",
        "\n",
        "# Calcular métricas para el modelo de Árbol de Decisión óptimo\n",
        "precision_arbol_optimo = accuracy_score(y_test, y_pred_arbol_optimo)\n",
        "recall_arbol_optimo = recall_score(y_test, y_pred_arbol_optimo, pos_label=\"SI\")\n",
        "f1_arbol_optimo = f1_score(y_test, y_pred_arbol_optimo, pos_label=\"SI\")\n",
        "\n",
        "# Calcular métricas para el modelo de K-Vecinos más Cercanos óptimo\n",
        "precision_knn_optimo = accuracy_score(y_test, y_pred_knn_optimo)\n",
        "recall_knn_optimo = recall_score(y_test, y_pred_knn_optimo, pos_label=\"SI\")\n",
        "f1_knn_optimo = f1_score(y_test, y_pred_knn_optimo, pos_label=\"SI\")\n",
        "\n",
        "# Imprimir las métricas\n",
        "print(\"Métricas para el Árbol de Decisión óptimo:\")\n",
        "print(f'Precisión: {precision_arbol_optimo:.2f}')\n",
        "print(f'Recall: {recall_arbol_optimo:.2f}')\n",
        "print(f'F1-Score: {f1_arbol_optimo:.2f}')\n",
        "print()\n",
        "print(\"Métricas para el modelo K-Vecinos más Cercanos óptimo:\")\n",
        "print(f'Precisión: {precision_knn_optimo:.2f}')\n",
        "print(f'Recall: {recall_knn_optimo:.2f}')\n",
        "print(f'F1-Score: {f1_knn_optimo:.2f}')\n"
      ]
    },
    {
      "cell_type": "markdown",
      "metadata": {
        "id": "JeGx2V0lTF9i"
      },
      "source": [
        "De acuerdo con lo aprendido en el módulo, ¿Cómo cree que se puede mejorar el performance de este modelo? "
      ]
    },
    {
      "cell_type": "markdown",
      "metadata": {},
      "source": [
        "Para mejorar el rendimiento del modelo de clasificación K-Vecinos más Cercanos (KNN):\n",
        "\n",
        "1. **Selección de Características**: Realiza una evaluación exhaustiva de las características utilizadas en el modelo. Elimina las características irrelevantes o redundantes, lo que puede mejorar la precisión y reducir el ruido en el modelo.\n",
        "\n",
        "2. **Normalización de Datos**: KNN es sensible a la escala de las características. Asegúrate de normalizar o estandarizar tus datos para que todas las características tengan la misma importancia.\n",
        "\n",
        "3. **Selección de Hiperparámetros**: Experimenta con diferentes valores de `k`. Encontrar el valor óptimo de `k` puede tener un impacto significativo en el rendimiento. Utiliza técnicas como la validación cruzada para seleccionar el mejor valor de `k`.\n",
        "\n",
        "4. **Manejo de Datos Desbalanceados**: Si se tiene un conjunto de datos desbalanceado, donde una clase tiene muchas más muestras que la otra, considera técnicas de remuestreo, como submuestreo o sobremuestreo, para equilibrar las clases.\n",
        "\n",
        "5. **Optimización de Distancia**: Experimenta con diferentes métricas de distancia (por ejemplo, la distancia Euclidiana, la distancia de Mahalanobis, etc.) para encontrar la que funcione mejor para tu conjunto de datos.\n",
        "\n",
        "6. **Eliminación de Ruido**: Identifica y elimina valores atípicos (outliers) que puedan afectar negativamente el rendimiento del modelo.\n",
        "\n",
        "7. **Reducción de la Dimensión**: Utiliza técnicas de reducción de la dimensión, como Análisis de Componentes Principales (PCA), para reducir la complejidad de los datos y mejorar el rendimiento.\n",
        "\n",
        "8. **Aumento de Datos**: Si tienes un conjunto de datos pequeño, considera técnicas de aumento de datos para generar más ejemplos de entrenamiento sintéticos.\n",
        "\n",
        "9. **Validación Cruzada y Ajuste de Hiperparámetros**: Utiliza la validación cruzada para ajustar los hiperparámetros del modelo y evitar el sobreajuste.\n",
        "\n",
        "10. **Ensemble Learning**: Puedes combinar varios modelos KNN en un ensemble, como Random Forest o Gradient Boosting, para mejorar el rendimiento general.\n",
        "\n",
        "11. **Evaluación de Otras Métricas**: Además de las métricas estándar (precisión, recall, F1-score), considera otras métricas específicas del dominio o del problema que puedan ser relevantes.\n",
        "\n"
      ]
    },
    {
      "cell_type": "markdown",
      "metadata": {
        "id": "lPfoiS6ZTN-4"
      },
      "source": [
        "R/"
      ]
    }
  ],
  "metadata": {
    "colab": {
      "provenance": []
    },
    "kernelspec": {
      "display_name": "Python 3",
      "language": "python",
      "name": "python3"
    },
    "language_info": {
      "codemirror_mode": {
        "name": "ipython",
        "version": 3
      },
      "file_extension": ".py",
      "mimetype": "text/x-python",
      "name": "python",
      "nbconvert_exporter": "python",
      "pygments_lexer": "ipython3",
      "version": "3.11.6"
    },
    "orig_nbformat": 4,
    "vscode": {
      "interpreter": {
        "hash": "ae0e7af47f894f9476ada5eb18ddb08363018cc3b7dc70bce08ae16d38df8604"
      }
    }
  },
  "nbformat": 4,
  "nbformat_minor": 0
}
